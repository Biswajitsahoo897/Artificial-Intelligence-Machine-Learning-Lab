{
  "nbformat": 4,
  "nbformat_minor": 0,
  "metadata": {
    "colab": {
      "provenance": []
    },
    "kernelspec": {
      "name": "python3",
      "display_name": "Python 3"
    },
    "language_info": {
      "name": "python"
    }
  },
  "cells": [
    {
      "cell_type": "code",
      "execution_count": null,
      "metadata": {
        "id": "3JTt_xG8kA6v"
      },
      "outputs": [],
      "source": [
        "import pandas as pd\n",
        "import numpy as np\n",
        "import matplotlib.pyplot as plt\n",
        "import seaborn as sns\n",
        "from sklearn.model_selection import train_test_split\n",
        "from sklearn.preprocessing import LabelEncoder, StandardScaler,MinMaxScaler"
      ]
    },
    {
      "cell_type": "code",
      "source": [
        "#load the dataset\n",
        "df=pd.read_csv('/content/IRIS.csv')"
      ],
      "metadata": {
        "id": "NQpEZAofk9-J"
      },
      "execution_count": null,
      "outputs": []
    },
    {
      "cell_type": "code",
      "source": [
        "print(\"First 5 Rows of the Dataset:\")\n",
        "print(df.head())"
      ],
      "metadata": {
        "colab": {
          "base_uri": "https://localhost:8080/"
        },
        "id": "i6Wu_wFmlUQQ",
        "outputId": "47a337b4-1e0d-4660-c5fc-676d785a7be2"
      },
      "execution_count": null,
      "outputs": [
        {
          "output_type": "stream",
          "name": "stdout",
          "text": [
            "First 5 Rows of the Dataset:\n",
            "   sepal_length  sepal_width  petal_length  petal_width      species\n",
            "0           5.1          3.5           1.4          0.2  Iris-setosa\n",
            "1           4.9          3.0           1.4          0.2  Iris-setosa\n",
            "2           4.7          3.2           1.3          0.2  Iris-setosa\n",
            "3           4.6          3.1           1.5          0.2  Iris-setosa\n",
            "4           5.0          3.6           1.4          0.2  Iris-setosa\n"
          ]
        }
      ]
    },
    {
      "cell_type": "code",
      "source": [
        "# Step 4: Dataset Dimensions\n",
        "print(\"\\nDataset Shape (rows, columns):\", df.shape)"
      ],
      "metadata": {
        "colab": {
          "base_uri": "https://localhost:8080/",
          "height": 158
        },
        "id": "nxzuu6bMldPc",
        "outputId": "7c8b8e9d-86ed-43da-e3a0-3081208e9ffc"
      },
      "execution_count": null,
      "outputs": [
        {
          "output_type": "error",
          "ename": "NameError",
          "evalue": "name 'df' is not defined",
          "traceback": [
            "\u001b[0;31m---------------------------------------------------------------------------\u001b[0m",
            "\u001b[0;31mNameError\u001b[0m                                 Traceback (most recent call last)",
            "\u001b[0;32m/tmp/ipython-input-925939032.py\u001b[0m in \u001b[0;36m<cell line: 0>\u001b[0;34m()\u001b[0m\n\u001b[1;32m      1\u001b[0m \u001b[0;31m# Step 4: Dataset Dimensions\u001b[0m\u001b[0;34m\u001b[0m\u001b[0;34m\u001b[0m\u001b[0m\n\u001b[0;32m----> 2\u001b[0;31m \u001b[0mprint\u001b[0m\u001b[0;34m(\u001b[0m\u001b[0;34m\"\\nDataset Shape (rows, columns):\"\u001b[0m\u001b[0;34m,\u001b[0m \u001b[0mdf\u001b[0m\u001b[0;34m.\u001b[0m\u001b[0mshape\u001b[0m\u001b[0;34m)\u001b[0m\u001b[0;34m\u001b[0m\u001b[0;34m\u001b[0m\u001b[0m\n\u001b[0m",
            "\u001b[0;31mNameError\u001b[0m: name 'df' is not defined"
          ]
        }
      ]
    },
    {
      "cell_type": "code",
      "source": [
        "#data type of the cols\n",
        "print(\"\\nData Types:\",df.dtypes)"
      ],
      "metadata": {
        "colab": {
          "base_uri": "https://localhost:8080/"
        },
        "id": "sNUZ8jG9leak",
        "outputId": "e678ea5d-ebe2-4347-ad10-5fa75363ec88"
      },
      "execution_count": null,
      "outputs": [
        {
          "output_type": "stream",
          "name": "stdout",
          "text": [
            "\n",
            "Data Types: sepal_length    float64\n",
            "sepal_width     float64\n",
            "petal_length    float64\n",
            "petal_width     float64\n",
            "species          object\n",
            "dtype: object\n"
          ]
        }
      ]
    },
    {
      "cell_type": "code",
      "source": [
        "#Summary Statistics\n",
        "print(\"\\nSummary Statistics:\",df.describe())"
      ],
      "metadata": {
        "id": "fLATzKPLlrHY",
        "colab": {
          "base_uri": "https://localhost:8080/"
        },
        "outputId": "772bccd3-a6f7-4890-bfd3-0fa33c0d5fcd"
      },
      "execution_count": null,
      "outputs": [
        {
          "output_type": "stream",
          "name": "stdout",
          "text": [
            "\n",
            "Summary Statistics:        sepal_length  sepal_width  petal_length  petal_width\n",
            "count    150.000000   150.000000    150.000000   150.000000\n",
            "mean       5.843333     3.054000      3.758667     1.198667\n",
            "std        0.828066     0.433594      1.764420     0.763161\n",
            "min        4.300000     2.000000      1.000000     0.100000\n",
            "25%        5.100000     2.800000      1.600000     0.300000\n",
            "50%        5.800000     3.000000      4.350000     1.300000\n",
            "75%        6.400000     3.300000      5.100000     1.800000\n",
            "max        7.900000     4.400000      6.900000     2.500000\n"
          ]
        }
      ]
    },
    {
      "cell_type": "code",
      "source": [
        "# Step 7: Visualize Distributions\n",
        "plt.figure(figsize=(6,6))\n",
        "df.hist(bins=15, figsize=(8,6), edgecolor='black')\n",
        "plt.suptitle(\"Histograms of Numeric Features\")\n",
        "plt.show()"
      ],
      "metadata": {
        "colab": {
          "base_uri": "https://localhost:8080/",
          "height": 600
        },
        "id": "L978KchzlwKf",
        "outputId": "66380474-0df0-4b40-d202-a3dad9f1e16f"
      },
      "execution_count": null,
      "outputs": [
        {
          "output_type": "display_data",
          "data": {
            "text/plain": [
              "<Figure size 600x600 with 0 Axes>"
            ]
          },
          "metadata": {}
        },
        {
          "output_type": "display_data",
          "data": {
            "text/plain": [
              "<Figure size 800x600 with 4 Axes>"
            ],
            "image/png": "[encoded data removed]"
          },
          "metadata": {}
        }
      ]
    },
    {
      "cell_type": "code",
      "source": [
        "# Boxplots\n",
        "plt.figure(figsize=(8,5))\n",
        "sns.boxplot(data=df.drop(columns=['species']))\n",
        "plt.title(\"Boxplots of Features\")\n",
        "plt.show()"
      ],
      "metadata": {
        "colab": {
          "base_uri": "https://localhost:8080/",
          "height": 468
        },
        "id": "X9xFxbE3l3BD",
        "outputId": "7c8ce10d-c337-46f7-91ad-48c412a6b1a8"
      },
      "execution_count": null,
      "outputs": [
        {
          "output_type": "display_data",
          "data": {
            "text/plain": [
              "<Figure size 800x500 with 1 Axes>"
            ],
            "image/png": "[encoded data removed]"
          },
          "metadata": {}
        }
      ]
    },
    {
      "cell_type": "code",
      "source": [
        "# Check for Missing Values\n",
        "print(\"\\nMissing Values in Each Column:\")\n",
        "print(df.isnull().sum())"
      ],
      "metadata": {
        "colab": {
          "base_uri": "https://localhost:8080/"
        },
        "id": "4IJXksdamCjt",
        "outputId": "9da0d600-6baf-4542-b070-7a00b4f1ba80"
      },
      "execution_count": null,
      "outputs": [
        {
          "output_type": "stream",
          "name": "stdout",
          "text": [
            "\n",
            "Missing Values in Each Column:\n",
            "sepal_length    0\n",
            "sepal_width     0\n",
            "petal_length    0\n",
            "petal_width     0\n",
            "species         0\n",
            "dtype: int64\n"
          ]
        }
      ]
    },
    {
      "cell_type": "code",
      "source": [
        "# Step 8: Frequency Distribution of Categorical Features\n",
        "plt.figure(figsize=(6,4))\n",
        "sns.countplot(x='species', data=df)\n",
        "plt.title(\"Count of Each Species\")\n",
        "plt.show()"
      ],
      "metadata": {
        "colab": {
          "base_uri": "https://localhost:8080/",
          "height": 410
        },
        "id": "FCWWFuo6mBV6",
        "outputId": "62ba8c54-e98e-420a-eb69-b3bd9ee5d8b2"
      },
      "execution_count": null,
      "outputs": [
        {
          "output_type": "display_data",
          "data": {
            "text/plain": [
              "<Figure size 600x400 with 1 Axes>"
            ],
            "image/png": "[encoded data removed]"
          },
          "metadata": {}
        }
      ]
    },
    {
      "cell_type": "code",
      "source": [
        "# 1 Label Encoding\n",
        "label_encoder = LabelEncoder()\n",
        "df['species_label'] = label_encoder.fit_transform(df['species'])\n",
        "print(\"\\nLabel Encoded DataFrame:\")\n",
        "print(df[['species', 'species_label']].head())\n",
        "\n",
        "# 2 One-Hot Encoding\n",
        "df_onehot = pd.get_dummies(df, columns=['species'])\n",
        "print(\"\\nOne-Hot Encoded DataFrame:\")\n",
        "print(df_onehot.head())\n"
      ],
      "metadata": {
        "id": "iUjfi6TImIMg",
        "colab": {
          "base_uri": "https://localhost:8080/"
        },
        "outputId": "abf8b695-fd10-48e0-f404-6296f2e6dc6d"
      },
      "execution_count": null,
      "outputs": [
        {
          "output_type": "stream",
          "name": "stdout",
          "text": [
            "\n",
            "Label Encoded DataFrame:\n",
            "   species  species_label\n",
            "0        0              0\n",
            "1        0              0\n",
            "2        0              0\n",
            "3        0              0\n",
            "4        0              0\n",
            "\n",
            "One-Hot Encoded DataFrame:\n",
            "   sepal_length  sepal_width  petal_length  petal_width  species_label  \\\n",
            "0           5.1          3.5           1.4          0.2              0   \n",
            "1           4.9          3.0           1.4          0.2              0   \n",
            "2           4.7          3.2           1.3          0.2              0   \n",
            "3           4.6          3.1           1.5          0.2              0   \n",
            "4           5.0          3.6           1.4          0.2              0   \n",
            "\n",
            "   species_0  species_1  species_2  \n",
            "0       True      False      False  \n",
            "1       True      False      False  \n",
            "2       True      False      False  \n",
            "3       True      False      False  \n",
            "4       True      False      False  \n"
          ]
        }
      ]
    },
    {
      "cell_type": "code",
      "source": [
        "# Feature Scaling\n",
        "numeric_cols = df.select_dtypes(include=['float64', 'int64']).columns.drop('species_label')\n",
        "\n",
        "#  Standardization\n",
        "scaler_std = StandardScaler()\n",
        "df_standardized = df.copy()\n",
        "df_standardized[numeric_cols] = scaler_std.fit_transform(df[numeric_cols])\n",
        "print(\"\\nStandardized Features (mean≈0, sd≈1):\")\n",
        "print(df_standardized.head())\n",
        "\n",
        "#  Normalization\n",
        "scaler_norm = MinMaxScaler()\n",
        "df_normalized = df.copy()\n",
        "df_normalized[numeric_cols] = scaler_norm.fit_transform(df[numeric_cols])\n",
        "print(\"\\nNormalized Features (range [0,1]):\")\n",
        "print(df_normalized.head())"
      ],
      "metadata": {
        "id": "jOkCV9V4mUAK",
        "colab": {
          "base_uri": "https://localhost:8080/"
        },
        "outputId": "689fb161-3d43-47cc-9f5c-aceaaf7d1348"
      },
      "execution_count": null,
      "outputs": [
        {
          "output_type": "stream",
          "name": "stdout",
          "text": [
            "\n",
            "Standardized Features (mean≈0, std≈1):\n",
            "   sepal_length  sepal_width  petal_length  petal_width   species  \\\n",
            "0     -0.900681     1.032057     -1.341272    -1.312977 -1.224745   \n",
            "1     -1.143017    -0.124958     -1.341272    -1.312977 -1.224745   \n",
            "2     -1.385353     0.337848     -1.398138    -1.312977 -1.224745   \n",
            "3     -1.506521     0.106445     -1.284407    -1.312977 -1.224745   \n",
            "4     -1.021849     1.263460     -1.341272    -1.312977 -1.224745   \n",
            "\n",
            "   species_label  \n",
            "0              0  \n",
            "1              0  \n",
            "2              0  \n",
            "3              0  \n",
            "4              0  \n",
            "\n",
            "Normalized Features (range [0,1]):\n",
            "   sepal_length  sepal_width  petal_length  petal_width  species  \\\n",
            "0      0.222222     0.625000      0.067797     0.041667      0.0   \n",
            "1      0.166667     0.416667      0.067797     0.041667      0.0   \n",
            "2      0.111111     0.500000      0.050847     0.041667      0.0   \n",
            "3      0.083333     0.458333      0.084746     0.041667      0.0   \n",
            "4      0.194444     0.666667      0.067797     0.041667      0.0   \n",
            "\n",
            "   species_label  \n",
            "0              0  \n",
            "1              0  \n",
            "2              0  \n",
            "3              0  \n",
            "4              0  \n"
          ]
        }
      ]
    },
    {
      "cell_type": "code",
      "source": [
        "# Select features\n",
        "X = df[['sepal_length', 'sepal_width', 'petal_length', 'petal_width']]\n",
        "y = df['species_label']\n",
        "# Train-test split (80-20)\n",
        "X_train, X_test, y_train, y_test = train_test_split(\n",
        "    X, y, test_size=0.2, random_state=42\n",
        ")\n",
        "print(\"\\nTraining set size:\", X_train.shape)\n",
        "print(\"Testing set size:\", X_test.shape)\n",
        "print(\"Training labels:\", y_train.shape)\n",
        "print(\"Testing labels:\", y_test.shape)"
      ],
      "metadata": {
        "colab": {
          "base_uri": "https://localhost:8080/"
        },
        "id": "BcU0mshyebZV",
        "outputId": "bc246bbe-1124-4f0b-d7e8-f14a027aaf70"
      },
      "execution_count": null,
      "outputs": [
        {
          "output_type": "stream",
          "name": "stdout",
          "text": [
            "\n",
            "Training set size: (120, 4)\n",
            "Testing set size: (30, 4)\n",
            "Training labels: (120,)\n",
            "Testing labels: (30,)\n"
          ]
        }
      ]
    },
    {
      "cell_type": "code",
      "source": [
        "print(\"X_train -> type:\", type(X_train), \"  shape:\", X_train.shape)\n",
        "print(\"X_test  -> type:\", type(X_test),  \"  shape:\", X_test.shape)\n",
        "print(\"y_train -> type:\", type(y_train), \"  shape:\", y_train.shape)\n",
        "print(\"y_test  -> type:\", type(y_test),  \"  shape:\", y_test.shape)"
      ],
      "metadata": {
        "id": "eu4IiddHmXRW",
        "outputId": "b595b206-761a-4d7d-9fa1-30a8dbd36fc9",
        "colab": {
          "base_uri": "https://localhost:8080/"
        }
      },
      "execution_count": null,
      "outputs": [
        {
          "output_type": "stream",
          "name": "stdout",
          "text": [
            "X_train -> type: <class 'pandas.core.frame.DataFrame'>   shape: (120, 4)\n",
            "X_test  -> type: <class 'pandas.core.frame.DataFrame'>   shape: (30, 4)\n",
            "y_train -> type: <class 'pandas.core.series.Series'>   shape: (120,)\n",
            "y_test  -> type: <class 'pandas.core.series.Series'>   shape: (30,)\n"
          ]
        }
      ]
    }
  ]
}