{
 "cells": [
  {
   "cell_type": "code",
   "execution_count": 1,
   "id": "597430f9",
   "metadata": {},
   "outputs": [
    {
     "name": "stdout",
     "output_type": "stream",
     "text": [
      "Temperature in Fahrenheit :  91.616\n"
     ]
    }
   ],
   "source": [
    "cel=float(input(\"Enter the temperature in celsius: \"))\n",
    "fer=(9/5)*cel+32\n",
    "print(\"Temperature in Fahrenheit : \",fer)\n"
   ]
  },
  {
   "cell_type": "code",
   "execution_count": 2,
   "id": "760d1f5d",
   "metadata": {},
   "outputs": [
    {
     "name": "stdout",
     "output_type": "stream",
     "text": [
      "Area of the circle :  98.51804211199999\n"
     ]
    }
   ],
   "source": [
    "rad=float(input(\"Enter the radius : \"))\n",
    "area=3.1415192*rad*rad\n",
    "print(\"Area of the circle : \",area)"
   ]
  },
  {
   "cell_type": "code",
   "execution_count": 12,
   "id": "ab8a19a3",
   "metadata": {},
   "outputs": [
    {
     "name": "stdout",
     "output_type": "stream",
     "text": [
      "['India', 'Japan', 'China', 'Russia', 'France', 'England', 'Norway']\n",
      "Russia\n",
      "['China', 'England', 'France', 'India', 'Japan', 'Norway', 'Russia']\n",
      "India Exists\n"
     ]
    }
   ],
   "source": [
    "# create a python list of containing the names of five countries\n",
    "lis=['India','Japan','China','Russia','France']\n",
    "# a\n",
    "lis.append('England')\n",
    "lis.append('Norway')\n",
    "print(lis)\n",
    "\n",
    "# b\n",
    "print(lis[3])\n",
    "# c\n",
    "lis.sort()\n",
    "print(lis)\n",
    "\n",
    "# d\n",
    "if 'India' in lis:\n",
    "    print(\"India Exists\")\n",
    "else:\n",
    "    print(\"Not\")\n",
    "\n",
    "# e\n"
   ]
  },
  {
   "cell_type": "code",
   "execution_count": null,
   "id": "cd47baa2",
   "metadata": {},
   "outputs": [
    {
     "name": "stdout",
     "output_type": "stream",
     "text": [
      "Max:  200\n",
      "Min:  7\n",
      "(21, 56.2, 89, 7, 90, 200)\n",
      "[21, 56.2, 89, 7, 90, 200]\n"
     ]
    }
   ],
   "source": [
    "# productPrice\n",
    "# a\n",
    "productPrice=(21,56.2,89,7,90,200)\n",
    "max_price=max(productPrice)\n",
    "min_price=min(productPrice)\n",
    "total=sum(productPrice)\n",
    "print(\"Max: \",max_price)\n",
    "print(\"Min: \",min_price)\n",
    "\n",
    "print(productPrice)\n",
    "# b\n",
    "\n",
    "\n",
    "\n",
    "\n",
    "# c\n",
    "lis=list(productPrice)\n",
    "print(lis)\n",
    "\n",
    "# d\n",
    "productPrice=(('apple',451),('papya',271),('banana',118))\n",
    "productPrice.append(('orange', 60))\n",
    "\n",
    "# Extract prices and calculate average\n",
    "total_price = sum(price for _, price in productPrice)\n",
    "average_price = total_price / len(productPrice)\n",
    "\n",
    "print(\"Average Price:\", average_price)\n",
    "print(\"Total Price:\", total_price)\n"
   ]
  },
  {
   "cell_type": "code",
   "execution_count": null,
   "id": "55933858",
   "metadata": {},
   "outputs": [
    {
     "name": "stdout",
     "output_type": "stream",
     "text": [
      "{'London': 100, 'Tokyo': 200, 'Berlin': 300, 'Oslo': 400, 'BBSR': 780, 'xyz': 895}\n"
     ]
    }
   ],
   "source": [
    "# Dictionaries\n",
    "cities={'London':100,'Tokyo':200,'Berlin':300,'Oslo':400}\n",
    "# a\n",
    "cities.update({'BBSR':780})\n",
    "cities.update({'xyz':895})\n",
    "print(cities)\n",
    "\n",
    "#b\n",
    "max_pop=max(cities.values())\n",
    "print(cities)\n",
    "\n",
    "# c\n",
    "if 'London' in cities:\n",
    "    print(\"Exists\")\n",
    "else:\n",
    "    print(\"Doesn't Exists\")\n",
    "\n",
    "# d\n",
    "del cities['Berlin']\n",
    "print(cities)\n"
   ]
  },
  {
   "cell_type": "code",
   "execution_count": null,
   "id": "317884b7",
   "metadata": {},
   "outputs": [
    {
     "name": "stdout",
     "output_type": "stream",
     "text": [
      "C.V Raman Global University ,Bhubaneswar\n",
      "9\n",
      "3.0\n",
      "9   6\n",
      "Sum is :  20\n",
      "It is a even number\n",
      "47\n"
     ]
    }
   ],
   "source": [
    "# 1\n",
    "print(\"C.V Raman Global University ,Bhubaneswar\")\n",
    "# 2\n",
    "a=int(input(\"Enter First Number: \"))\n",
    "b=int(input(\"Enter Second Number: \"))\n",
    "sum=a+b\n",
    "print(sum)\n",
    "\n",
    "# 3\n",
    "import math\n",
    "num=int(input(\"Enter the number\"))\n",
    "squareRoot=math.sqrt(num)\n",
    "print(squareRoot)\n",
    "\n",
    "# 4\n",
    "a=6\n",
    "b=9\n",
    "a,b=b,a\n",
    "print(a,\" \",b)\n",
    "\n",
    "# 5\n",
    "num=8921\n",
    "Sum=0\n",
    "while num>0:\n",
    "    digit=num%10\n",
    "    num//=10\n",
    "    Sum+=digit\n",
    "print(\"Sum is : \",Sum)\n",
    "\n",
    "# 6\n",
    "if(num%2==0):\n",
    "    print(\"It is a even number\")\n",
    "\n",
    "# 7\n",
    "a=43\n",
    "b=47\n",
    "print(max(a,b))\n",
    "\n",
    "\n"
   ]
  },
  {
   "cell_type": "markdown",
   "id": "c3786c10",
   "metadata": {},
   "source": [
    "### Simple Calculator Program"
   ]
  },
  {
   "cell_type": "code",
   "execution_count": null,
   "id": "a14c16d0",
   "metadata": {},
   "outputs": [
    {
     "name": "stdout",
     "output_type": "stream",
     "text": [
      "14\n"
     ]
    }
   ],
   "source": [
    "a=int(input(\"Enter First Number: \"))\n",
    "b=int(input(\"Enter Second Number: \"))\n",
    "operation=input('Enter the operation :')\n",
    "Sum=0\n",
    "dif=0\n",
    "mul=1\n",
    "div=1\n",
    "match operation:\n",
    "    case '+':\n",
    "        Sum=a+b\n",
    "        print(Sum)\n",
    "    case '-':\n",
    "        dif=a-b\n",
    "        print(dif)\n",
    "    case '*':\n",
    "        mul=a*b\n",
    "        print(mul)\n",
    "    case '/':\n",
    "        div=a/b\n",
    "        print(div)\n",
    "this is the "
   ]
  },
  {
   "cell_type": "code",
   "execution_count": null,
   "id": "daf0d1aa",
   "metadata": {},
   "outputs": [
    {
     "name": "stdout",
     "output_type": "stream",
     "text": [
      "Not\n"
     ]
    }
   ],
   "source": [
    "# 13\n",
    "word=input(\"Enter a String : \")\n",
    "if(str(word)==str(word)[::-1]):\n",
    "    print(\"String is a palindrome\")\n",
    "else:\n",
    "    print('Not')\n"
   ]
  },
  {
   "cell_type": "code",
   "execution_count": 29,
   "id": "5941f6eb",
   "metadata": {},
   "outputs": [
    {
     "name": "stdout",
     "output_type": "stream",
     "text": [
      "5040\n"
     ]
    }
   ],
   "source": [
    "\n",
    "# 14\n",
    "fact=8\n",
    "mul=1\n",
    "for i in range(1,fact):\n",
    "    mul*=i\n",
    "print(mul)\n"
   ]
  },
  {
   "cell_type": "code",
   "execution_count": null,
   "id": "b81b550e",
   "metadata": {},
   "outputs": [],
   "source": [
    "# 15\n"
   ]
  }
 ],
 "metadata": {
  "kernelspec": {
   "display_name": "Python 3",
   "language": "python",
   "name": "python3"
  },
  "language_info": {
   "codemirror_mode": {
    "name": "ipython",
    "version": 3
   },
   "file_extension": ".py",
   "mimetype": "text/x-python",
   "name": "python",
   "nbconvert_exporter": "python",
   "pygments_lexer": "ipython3",
   "version": "3.13.5"
  }
 },
 "nbformat": 4,
 "nbformat_minor": 5
}
