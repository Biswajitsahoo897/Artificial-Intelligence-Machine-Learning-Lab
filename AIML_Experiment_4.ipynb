{
 "cells": [
  {
   "cell_type": "markdown",
   "id": "42ef4711",
   "metadata": {},
   "source": [
    "### A* Problem"
   ]
  },
  {
   "cell_type": "code",
   "execution_count": 1,
   "id": "43bfefa7",
   "metadata": {},
   "outputs": [
    {
     "name": "stdout",
     "output_type": "stream",
     "text": [
      "Path: [(0, 0), (0, 1), (0, 2), (0, 3), (0, 4), (1, 4), (2, 4), (3, 4), (4, 4)]\n"
     ]
    }
   ],
   "source": [
    "import heapq\n",
    "\n",
    "def heuristic(a, b):\n",
    "    return abs(a[0] - b[0]) + abs(a[1] - b[1])\n",
    "\n",
    "def astar(grid, start, end):\n",
    "    rows, cols = len(grid), len(grid[0])\n",
    "    open_list = [(0, start)]\n",
    "    g = {start: 0}\n",
    "    parent = {start: None}\n",
    "    while open_list:\n",
    "        _, current = heapq.heappop(open_list)\n",
    "        if current == end:\n",
    "            path = []\n",
    "            while current:\n",
    "                path.append(current)\n",
    "                current = parent[current]\n",
    "            return path[::-1]\n",
    "\n",
    "        for dx, dy in [(0,1),(1,0),(0,-1),(-1,0)]:\n",
    "            nx, ny = current[0]+dx, current[1]+dy\n",
    "            if 0 <= nx < rows and 0 <= ny < cols and grid[nx][ny] == 0:\n",
    "                new_g = g[current] + 1\n",
    "                if (nx, ny) not in g or new_g < g[(nx, ny)]:\n",
    "                    g[(nx, ny)] = new_g\n",
    "                    f = new_g + heuristic((nx, ny), end)\n",
    "                    heapq.heappush(open_list, (f, (nx, ny)))\n",
    "                    parent[(nx, ny)] = current\n",
    "    return None\n",
    "\n",
    "# Example usage\n",
    "if __name__ == \"__main__\":\n",
    "    grid = [\n",
    "        [0,0,0,0,0],\n",
    "        [1,1,0,1,0],\n",
    "        [0,0,0,0,0],\n",
    "        [0,1,1,1,0],\n",
    "        [0,0,0,0,0]\n",
    "    ]\n",
    "    start, end = (0,0), (4,4)\n",
    "    print(\"Path:\", astar(grid, start, end))\n"
   ]
  },
  {
   "cell_type": "markdown",
   "id": "c0f6b648",
   "metadata": {},
   "source": [
    "### AO* problem "
   ]
  },
  {
   "cell_type": "code",
   "execution_count": null,
   "id": "6d3d3c93",
   "metadata": {},
   "outputs": [
    {
     "name": "stdout",
     "output_type": "stream",
     "text": [
      "Running AO* Algorithm...\n",
      "\n",
      "Visiting Node: A\n",
      "Visiting Node: B\n",
      "Visiting Node: E\n",
      "Visiting Node: F\n",
      "Visiting Node: C\n",
      "Visiting Node: G\n",
      "\n",
      "Optimal Solution Graph:\n",
      "A -> ['B', 'C']\n",
      "B -> ['E', 'F']\n",
      "C -> ['G']\n"
     ]
    }
   ],
   "source": [
    "class AOStar:\n",
    "    def __init__(self, graph, heuristic, start):\n",
    "        self.graph = graph\n",
    "        self.H = heuristic\n",
    "        self.start = start\n",
    "        self.solution_graph = {}\n",
    "\n",
    "    def get_neighbors(self, node):\n",
    "        return self.graph.get(node, [])\n",
    "\n",
    "    def ao_star(self, node, backtracking=False):\n",
    "        print(f\"Visiting Node: {node}\")\n",
    "\n",
    "        # If node is leaf\n",
    "        if node not in self.graph:\n",
    "            return self.H[node]\n",
    "\n",
    "        # Evaluate all children (AND/OR expansions)\n",
    "        min_cost = float('inf')\n",
    "        best_path = None\n",
    "\n",
    "        for child in self.graph[node]:\n",
    "            cost = 0\n",
    "            path = []\n",
    "            for sub_node in child:   # AND-node expansion\n",
    "                cost += self.H[sub_node]\n",
    "                path.append(sub_node)\n",
    "            if cost < min_cost:\n",
    "                min_cost = cost\n",
    "                best_path = path\n",
    "\n",
    "        # Update heuristic\n",
    "        self.H[node] = min_cost\n",
    "        self.solution_graph[node] = best_path\n",
    "\n",
    "        if backtracking:\n",
    "            for sub_node in best_path:\n",
    "                self.ao_star(sub_node, backtracking=True)\n",
    "\n",
    "        return self.H[node]\n",
    "\n",
    "    def print_solution(self):\n",
    "        print(\"\\nOptimal Solution Graph:\")\n",
    "        for node in self.solution_graph:\n",
    "            print(f\"{node} -> {self.solution_graph[node]}\")\n",
    "\n",
    "\n",
    "# AND-OR Graph\n",
    "graph = {\n",
    "    'A': [['B', 'C'], ['D']],   # A -> AND(B,C) or OR(D)\n",
    "    'B': [['E', 'F']],          # B -> AND(E,F)\n",
    "    'C': [['G']],               # C -> OR(G)\n",
    "    'D': [['H', 'I']],          # D -> AND(H,I)\n",
    "}\n",
    "\n",
    "heuristic = {\n",
    "    'A': 10, 'B': 4, 'C': 2, 'D': 8,\n",
    "    'E': 3, 'F': 2, 'G': 1, 'H': 3, 'I': 2\n",
    "}\n",
    "\n",
    "print(\"Running AO* Algorithm...\\n\")\n",
    "ao = AOStar(graph, heuristic, 'A')\n",
    "ao.ao_star('A', backtracking=True)\n",
    "ao.print_solution()\n"
   ]
  },
  {
   "cell_type": "markdown",
   "id": "02cb2b1e",
   "metadata": {},
   "source": [
    "### A* problem \n"
   ]
  },
  {
   "cell_type": "code",
   "execution_count": null,
   "id": "65a77a94",
   "metadata": {},
   "outputs": [
    {
     "name": "stdout",
     "output_type": "stream",
     "text": [
      "\n",
      "Running A* Algorithm...\n",
      "\n",
      "Optimal Path: ['S', 'A', 'C', 'G'], Cost: 8\n"
     ]
    }
   ],
   "source": [
    "import heapq\n",
    "\n",
    "class AStar:\n",
    "    def __init__(self, graph, heuristic):\n",
    "        self.graph = graph\n",
    "        self.H = heuristic\n",
    "\n",
    "    def a_star(self, start, goal):\n",
    "        open_list = [(0 + self.H[start], 0, start, [])]  # (f, g, node, path)\n",
    "        closed_set = set()\n",
    "\n",
    "        while open_list:\n",
    "            f, g, node, path = heapq.heappop(open_list)\n",
    "            if node in closed_set:\n",
    "                continue\n",
    "            path = path + [node]\n",
    "            closed_set.add(node)\n",
    "\n",
    "            if node == goal:\n",
    "                return path, g\n",
    "\n",
    "            for neighbor, cost in self.graph.get(node, []):\n",
    "                if neighbor not in closed_set:\n",
    "                    g_new = g + cost\n",
    "                    f_new = g_new + self.H[neighbor]\n",
    "                    heapq.heappush(open_list, (f_new, g_new, neighbor, path))\n",
    "        return None, float('inf')\n",
    "\n",
    "graph = {\n",
    "    'S': [('A', 1), ('B', 4)],\n",
    "    'A': [('C', 2), ('D', 5)],\n",
    "    'B': [('D', 1)],\n",
    "    'C': [('G', 5)],\n",
    "    'D': [('G', 2)],\n",
    "    'G': []\n",
    "}\n",
    "# values \n",
    "heuristic = {\n",
    "    'S': 7, 'A': 6, 'B': 4,\n",
    "    'C': 2, 'D': 1, 'G': 0\n",
    "}\n",
    "\n",
    "print(\"\\nRunning A* Algorithm...\\n\")\n",
    "astar = AStar(graph, heuristic)\n",
    "path, cost = astar.a_star('S', 'G')\n",
    "print(f\"Optimal Path: {path}, Cost: {cost}\")\n"
   ]
  }
 ],
 "metadata": {
  "kernelspec": {
   "display_name": ".venv",
   "language": "python",
   "name": "python3"
  },
  "language_info": {
   "codemirror_mode": {
    "name": "ipython",
    "version": 3
   },
   "file_extension": ".py",
   "mimetype": "text/x-python",
   "name": "python",
   "nbconvert_exporter": "python",
   "pygments_lexer": "ipython3",
   "version": "3.13.5"
  }
 },
 "nbformat": 4,
 "nbformat_minor": 5
}
