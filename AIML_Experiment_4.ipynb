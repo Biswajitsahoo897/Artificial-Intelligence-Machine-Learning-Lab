{
 "cells": [
  {
   "cell_type": "markdown",
   "id": "42ef4711",
   "metadata": {},
   "source": [
    "### A* Problem"
   ]
  },
  {
   "cell_type": "code",
   "execution_count": 1,
   "id": "43bfefa7",
   "metadata": {},
   "outputs": [
    {
     "name": "stdout",
     "output_type": "stream",
     "text": [
      "Path: [(0, 0), (0, 1), (0, 2), (0, 3), (0, 4), (1, 4), (2, 4), (3, 4), (4, 4)]\n"
     ]
    }
   ],
   "source": [
    "import heapq\n",
    "\n",
    "def heuristic(a, b):\n",
    "    return abs(a[0] - b[0]) + abs(a[1] - b[1])\n",
    "\n",
    "def astar(grid, start, end):\n",
    "    rows, cols = len(grid), len(grid[0])\n",
    "    open_list = [(0, start)]\n",
    "    g = {start: 0}\n",
    "    parent = {start: None}\n",
    "    while open_list:\n",
    "        _, current = heapq.heappop(open_list)\n",
    "        if current == end:\n",
    "            path = []\n",
    "            while current:\n",
    "                path.append(current)\n",
    "                current = parent[current]\n",
    "            return path[::-1]\n",
    "\n",
    "        for dx, dy in [(0,1),(1,0),(0,-1),(-1,0)]:\n",
    "            nx, ny = current[0]+dx, current[1]+dy\n",
    "            if 0 <= nx < rows and 0 <= ny < cols and grid[nx][ny] == 0:\n",
    "                new_g = g[current] + 1\n",
    "                if (nx, ny) not in g or new_g < g[(nx, ny)]:\n",
    "                    g[(nx, ny)] = new_g\n",
    "                    f = new_g + heuristic((nx, ny), end)\n",
    "                    heapq.heappush(open_list, (f, (nx, ny)))\n",
    "                    parent[(nx, ny)] = current\n",
    "    return None\n",
    "\n",
    "# Example usage\n",
    "if __name__ == \"__main__\":\n",
    "    grid = [\n",
    "        [0,0,0,0,0],\n",
    "        [1,1,0,1,0],\n",
    "        [0,0,0,0,0],\n",
    "        [0,1,1,1,0],\n",
    "        [0,0,0,0,0]\n",
    "    ]\n",
    "    start, end = (0,0), (4,4)\n",
    "    print(\"Path:\", astar(grid, start, end))\n"
   ]
  }
 ],
 "metadata": {
  "kernelspec": {
   "display_name": ".venv",
   "language": "python",
   "name": "python3"
  },
  "language_info": {
   "codemirror_mode": {
    "name": "ipython",
    "version": 3
   },
   "file_extension": ".py",
   "mimetype": "text/x-python",
   "name": "python",
   "nbconvert_exporter": "python",
   "pygments_lexer": "ipython3",
   "version": "3.13.5"
  }
 },
 "nbformat": 4,
 "nbformat_minor": 5
}
