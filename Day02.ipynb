{
 "cells": [
  {
   "cell_type": "code",
   "execution_count": null,
   "id": "2745d5b5",
   "metadata": {},
   "outputs": [],
   "source": [
    "# Write a Program to implement uniformed Search such as DFS ,BFS using python"
   ]
  },
  {
   "cell_type": "code",
   "execution_count": 9,
   "id": "3bcc1447",
   "metadata": {},
   "outputs": [
    {
     "name": "stdout",
     "output_type": "stream",
     "text": [
      "BFS traversal:\n",
      "[23, 3, 4, 6, 8, 9, 10]\n",
      "DFS traversal:\n",
      "23 3 6 8 4 9 10 None\n"
     ]
    }
   ],
   "source": [
    "from collections import deque\n",
    "\n",
    "def bfs(graph,start):\n",
    "    visited=set()\n",
    "    queue=deque([start])\n",
    "    result=[]\n",
    "    print(\"BFS traversal:\")\n",
    "    while queue:\n",
    "        node=queue.popleft()\n",
    "        if node not in visited:\n",
    "            result.append(node)\n",
    "            visited.add(node)\n",
    "            queue.extend(graph.get(node,[]))\n",
    "    return result\n",
    "\n",
    "\n",
    "def dfs(graph,start,visited=None):\n",
    "    if visited is None:\n",
    "        visited = set()\n",
    "        print(\"DFS traversal:\")\n",
    "    visited.add(start)\n",
    "    print(start, end=' ')\n",
    "    for j in graph.get(start, []):\n",
    "        if j not in visited:\n",
    "            dfs(graph, j, visited)\n",
    "\n",
    "graph = {\n",
    "    23: [3, 4],\n",
    "    3: [6, 8],\n",
    "    4: [9, 10],\n",
    "    6: [],\n",
    "    10: []\n",
    "}\n",
    "\n",
    "print(bfs(graph,23))\n",
    "print(dfs(graph,23))\n",
    "\n"
   ]
  },
  {
   "cell_type": "code",
   "execution_count": 6,
   "id": "ec30d10e",
   "metadata": {},
   "outputs": [
    {
     "name": "stdout",
     "output_type": "stream",
     "text": [
      "Inorder traversal: \n",
      "20 30 40 50 60 70 80 \n",
      "Search for 60: True\n",
      "Search for 25: False\n"
     ]
    }
   ],
   "source": [
    "\n",
    "def insert(root,value):\n",
    "    if root is None:\n",
    "        return {'value':value,'left':None,'right':None}\n",
    "    if value < root['value']:\n",
    "        root['left']=insert(root['left'],value)\n",
    "    else:\n",
    "        root['right'] = insert(root['right'], value)\n",
    "    return root\n",
    "\n",
    "def search(root, target):\n",
    "    if root is None:\n",
    "        return False\n",
    "    if root['value'] == target:\n",
    "        return True\n",
    "    elif target < root['value']:\n",
    "        return search(root['left'], target)\n",
    "    else:\n",
    "        return search(root['right'], target)\n",
    "\n",
    "def inorder(root):\n",
    "    if root is not None:\n",
    "        inorder(root['left'])\n",
    "        print(root['value'], end=' ')\n",
    "        inorder(root['right'])\n",
    "\n",
    "# bulid bst by passing the root to insert\n",
    "root = None\n",
    "values = [50, 30, 70, 20, 40, 60, 80]\n",
    "\n",
    "for v in values:\n",
    "    root = insert(root, v)\n",
    "\n",
    "print(\"Inorder traversal: \")\n",
    "inorder(root)\n",
    "\n",
    "# search in BST\n",
    "print(\"\\nSearch for 60:\", search(root, 60))\n",
    "print(\"Search for 25:\", search(root, 25))\n",
    "\n",
    "        "
   ]
  }
 ],
 "metadata": {
  "kernelspec": {
   "display_name": "Python 3",
   "language": "python",
   "name": "python3"
  },
  "language_info": {
   "codemirror_mode": {
    "name": "ipython",
    "version": 3
   },
   "file_extension": ".py",
   "mimetype": "text/x-python",
   "name": "python",
   "nbconvert_exporter": "python",
   "pygments_lexer": "ipython3",
   "version": "3.13.5"
  }
 },
 "nbformat": 4,
 "nbformat_minor": 5
}
